{
 "cells": [
  {
   "cell_type": "code",
   "execution_count": 1,
   "metadata": {},
   "outputs": [],
   "source": [
    "import numpy as np\n",
    "from math import *"
   ]
  },
  {
   "cell_type": "code",
   "execution_count": null,
   "metadata": {},
   "outputs": [],
   "source": [
    "#This method finds the number of variables in a feature or class\n",
    "#def repeats(arr, dec):\n",
    "#    #n = len(dec)\n",
    "#    for i in range(len(arr)):\n",
    "#        if():"
   ]
  },
  {
   "cell_type": "code",
   "execution_count": 4,
   "metadata": {},
   "outputs": [],
   "source": [
    "#This methods calculates the entropy of the data\n",
    "\n",
    "#The method takes in the column array variables and the values to look for in the array\n",
    "def entropy(target, dec_var):\n",
    "    nt, nd = len(target), len(dec_var)\n",
    "    py, pn = 0, 0\n",
    "\n",
    "    for i in target:\n",
    "        if(i == 'N'):\n",
    "            pn += 1\n",
    "        elif(i == 'Y'):\n",
    "            py += 1\n",
    "      \n",
    "    hd = -((pn/n)*log(pn/n, 2) + (py/n)*log(py/n, 2))\n",
    "    return(hd)"
   ]
  },
  {
   "cell_type": "code",
   "execution_count": null,
   "metadata": {},
   "outputs": [],
   "source": [
    "def gain(features, target):\n",
    "    n = len(features)\n",
    "    na, nb = 0, 0\n",
    "    for i in features:\n",
    "        if(i == 'A'):\n",
    "            na += 1\n",
    "        elif(i == 'B'):\n",
    "            nb += 1\n",
    "            \n",
    "    pya, pna = 0, 0\n",
    "    pyb, pnb = 0, 0\n",
    "    for i in range(len(features)):\n",
    "        if(features[i] == 'A'):\n",
    "            if(target[i] == 'Y'):\n",
    "                pya += 1\n",
    "            elif(target[i] == 'N'):\n",
    "                pna += 1\n",
    "        elif(features[i] == 'B'):\n",
    "            if(target[i] == 'Y'):\n",
    "                pyb += 1\n",
    "            elif(target[i] == 'N'):\n",
    "                pnb += 1\n",
    "                \n",
    "    entropyA = entropy()\n",
    "    entropyB = entropy()\n",
    "    \n",
    "    ans = entropy() \n",
    "            "
   ]
  },
  {
   "cell_type": "code",
   "execution_count": 5,
   "metadata": {},
   "outputs": [
    {
     "name": "stdout",
     "output_type": "stream",
     "text": [
      "[3, 3]\n"
     ]
    },
    {
     "data": {
      "text/plain": [
       "1.0"
      ]
     },
     "execution_count": 5,
     "metadata": {},
     "output_type": "execute_result"
    }
   ],
   "source": [
    "array = 'YNNYYN'\n",
    "entropy(array)"
   ]
  },
  {
   "cell_type": "code",
   "execution_count": null,
   "metadata": {},
   "outputs": [],
   "source": []
  }
 ],
 "metadata": {
  "kernelspec": {
   "display_name": "Python 3",
   "language": "python",
   "name": "python3"
  },
  "language_info": {
   "codemirror_mode": {
    "name": "ipython",
    "version": 3
   },
   "file_extension": ".py",
   "mimetype": "text/x-python",
   "name": "python",
   "nbconvert_exporter": "python",
   "pygments_lexer": "ipython3",
   "version": "3.6.5"
  }
 },
 "nbformat": 4,
 "nbformat_minor": 2
}
