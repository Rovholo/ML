{
 "cells": [
  {
   "cell_type": "code",
   "execution_count": 1,
   "metadata": {},
   "outputs": [],
   "source": [
    "#Initialisation Cell\n",
    "from sklearn.linear_model import LogisticRegression\n",
    "from sklearn.metrics import accuracy_score\n",
    "from sklearn import preprocessing\n",
    "from sklearn.metrics import classification_report\n",
    "from sklearn.metrics import confusion_matrix\n",
    "from sklearn.model_selection import train_test_split\n",
    "import os\n",
    "import pandas as pd\n",
    "import numpy as np\n",
    "import matplotlib.pyplot as plt \n",
    "import seaborn as sns\n",
    "import statsmodels.api as sm\n",
    "sns.set(style=\"white\")\n",
    "sns.set(style=\"whitegrid\", color_codes=True)\n",
    "%matplotlib inline"
   ]
  },
  {
   "cell_type": "markdown",
   "metadata": {},
   "source": [
    "# Logistic Regression\n",
    "\n",
    "Firstly, I will covert the .arff files to .csv files since they are easier to work with. Thus the following code "
   ]
  },
  {
   "cell_type": "code",
   "execution_count": 2,
   "metadata": {},
   "outputs": [],
   "source": [
    "# Getting all the arff files from the current directory\n",
    "files = [arff for arff in os.listdir('.') if arff.endswith(\".arff\")]\n",
    "\n",
    "# Function for converting arff list to csv list\n",
    "def toCsv(content):\n",
    "    data = False\n",
    "    header = \"\"\n",
    "    newContent = []\n",
    "    for line in content:\n",
    "        if not data:\n",
    "            if \"@attribute\" in line:\n",
    "                attri = line.split()\n",
    "                columnName = attri[attri.index(\"@attribute\")+1]\n",
    "                header = header + columnName + \",\"\n",
    "            elif \"@data\" in line:\n",
    "                data = True\n",
    "                header = header[:-1]\n",
    "                header += '\\n'\n",
    "                newContent.append(header)\n",
    "        else:\n",
    "            newContent.append(line)\n",
    "    return newContent\n",
    "\n",
    "# Main loop for reading and writing files\n",
    "for file in files:\n",
    "    with open(file , \"r\") as inFile:\n",
    "        content = inFile.readlines()\n",
    "        name,ext = os.path.splitext(inFile.name)\n",
    "        new = toCsv(content)\n",
    "        with open(name+\".csv\", \"w\") as outFile:\n",
    "            outFile.writelines(new)"
   ]
  },
  {
   "cell_type": "markdown",
   "metadata": {},
   "source": [
    "Now then, we begin with the algorithm,"
   ]
  },
  {
   "cell_type": "code",
   "execution_count": 3,
   "metadata": {},
   "outputs": [
    {
     "name": "stdout",
     "output_type": "stream",
     "text": [
      "Training Data : \n",
      "              precision    recall  f1-score   support\n",
      "\n",
      "          -1       0.92      0.91      0.91      1460\n",
      "           1       0.93      0.93      0.93      1857\n",
      "\n",
      "   micro avg       0.92      0.92      0.92      3317\n",
      "   macro avg       0.92      0.92      0.92      3317\n",
      "weighted avg       0.92      0.92      0.92      3317\n",
      "\n",
      "Confusion Matrix : \n",
      "[[1327  133]\n",
      " [ 122 1735]]\n",
      "Note : The diagonal from left to right indicates correct predictions,whereas the diagonal from right to left indicates incorrect predictions.\n"
     ]
    },
    {
     "name": "stderr",
     "output_type": "stream",
     "text": [
      "/usr/local/anaconda3/lib/python3.7/site-packages/sklearn/linear_model/logistic.py:433: FutureWarning: Default solver will be changed to 'lbfgs' in 0.22. Specify a solver to silence this warning.\n",
      "  FutureWarning)\n"
     ]
    },
    {
     "data": {
      "image/png": "[encoded data removed]",
      "text/plain": [
       "<Figure size 432x288 with 1 Axes>"
      ]
     },
     "metadata": {
      "needs_background": "light"
     },
     "output_type": "display_data"
    }
   ],
   "source": [
    "#Training Dataset\n",
    "data_train = pd.read_csv('Training Dataset.csv', header = 0)\n",
    "data_train = data_train.dropna()\n",
    "\n",
    "#x_train = data_train.iloc[:, :-1]\n",
    "#y_train = data_train.iloc[:, -1]\n",
    "print('Training Data : ')\n",
    "x_train, x_test, y_train, y_test = train_test_split(data_train.drop('Result', axis = 1), \n",
    "           data_train['Result'], test_size=0.30, \n",
    "            random_state=101)\n",
    "\n",
    "logmodel = LogisticRegression()\n",
    "logmodel.fit(x_train, y_train)\n",
    "predictions = logmodel.predict(x_test)\n",
    "\n",
    "print(classification_report(y_test, predictions))\n",
    "print('Confusion Matrix : ')\n",
    "cm = confusion_matrix(y_test, predictions)\n",
    "print(cm)\n",
    "\n",
    "print('Note : The diagonal from left to right indicates correct predictions,' \n",
    "       + 'whereas the diagonal from right to left indicates incorrect predictions.')\n",
    "\n",
    "sns.countplot(x = 'Result', data=data_train, palette='hls')\n",
    "plt.show()\n",
    "#data.head()\n"
   ]
  },
  {
   "cell_type": "markdown",
   "metadata": {},
   "source": [
    "-  Here y is the actual data which we are going to predict, everything else is going to be the features(x)\n",
    "- Set the text size to 30 percent and you don’t actually have to set your random state but this is put so if you want your result to match mines exactly.\n",
    "- We used **train_test_split** from the **cross_validation** module to split our data. 70%of the data will be training data and %30 will be testing data from the training dataset.\n",
    "\n",
    "We got 92% accuracy which is not bad at all."
   ]
  },
  {
   "cell_type": "code",
   "execution_count": 4,
   "metadata": {},
   "outputs": [
    {
     "name": "stdout",
     "output_type": "stream",
     "text": [
      "Testing Data : \n",
      "              precision    recall  f1-score   support\n",
      "\n",
      "          -1       0.94      0.96      0.95       418\n",
      "           1       0.95      0.92      0.93       319\n",
      "\n",
      "   micro avg       0.94      0.94      0.94       737\n",
      "   macro avg       0.94      0.94      0.94       737\n",
      "weighted avg       0.94      0.94      0.94       737\n",
      "\n",
      "Confusion Matrix : \n",
      "[[403  15]\n",
      " [ 27 292]]\n",
      "Note : The diagonal from left to right indicates correct predictions,whereas the diagonal from right to left indicates incorrect predictions.\n"
     ]
    },
    {
     "name": "stderr",
     "output_type": "stream",
     "text": [
      "/usr/local/anaconda3/lib/python3.7/site-packages/sklearn/linear_model/logistic.py:433: FutureWarning: Default solver will be changed to 'lbfgs' in 0.22. Specify a solver to silence this warning.\n",
      "  FutureWarning)\n"
     ]
    },
    {
     "data": {
      "image/png": "[encoded data removed]",
      "text/plain": [
       "<Figure size 432x288 with 1 Axes>"
      ]
     },
     "metadata": {
      "needs_background": "light"
     },
     "output_type": "display_data"
    }
   ],
   "source": [
    "data_test = pd.read_csv('old.csv', header = 0)\n",
    "data_test = data_test.dropna()\n",
    "\n",
    "#print(data_test['Result'].value_counts())\n",
    "\n",
    "#x_train = data_train.iloc[:, :-1]\n",
    "#y_train = data_train.iloc[:, -1]\n",
    "print('Testing Data : ')\n",
    "x_train, x_test, y_train, y_test = train_test_split(data_test.drop('Result', axis = 1), \n",
    "           data_test['Result'], test_size=0.30, \n",
    "            random_state=101)\n",
    "\n",
    "logmodel = LogisticRegression()\n",
    "logmodel.fit(x_train, y_train)\n",
    "predictions = logmodel.predict(x_test)\n",
    "\n",
    "print(classification_report(y_test, predictions))\n",
    "print('Confusion Matrix : ')\n",
    "cm = confusion_matrix(y_test, predictions)\n",
    "print(cm)\n",
    "print('Note : The diagonal from left to right indicates correct predictions,' \n",
    "       + 'whereas the diagonal from right to left indicates incorrect predictions.')\n",
    "\n",
    "sns.countplot(x = 'Result', data=data_train, palette='hls')\n",
    "plt.show()\n"
   ]
  },
  {
   "cell_type": "markdown",
   "metadata": {},
   "source": [
    "With the testing data we find that our accuracy is 94% from following the same procedure as the training data. Thus there for the model is good, very good."
   ]
  },
  {
   "cell_type": "code",
   "execution_count": null,
   "metadata": {},
   "outputs": [],
   "source": []
  }
 ],
 "metadata": {
  "kernelspec": {
   "display_name": "Python 3",
   "language": "python",
   "name": "python3"
  },
  "language_info": {
   "codemirror_mode": {
    "name": "ipython",
    "version": 3
   },
   "file_extension": ".py",
   "mimetype": "text/x-python",
   "name": "python",
   "nbconvert_exporter": "python",
   "pygments_lexer": "ipython3",
   "version": "3.7.1"
  }
 },
 "nbformat": 4,
 "nbformat_minor": 2
}
